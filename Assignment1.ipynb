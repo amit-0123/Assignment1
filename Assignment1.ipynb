{
 "cells": [
  {
   "cell_type": "code",
   "execution_count": 1,
   "metadata": {},
   "outputs": [],
   "source": [
    "#  Answer 1:\n",
    "\n",
    "str=\"Amit\"\n",
    "lst=[1,3,7,\"amit\",23.56]\n",
    "flt=2.56\n",
    "tpl=(1,5,9,\"amit\",2.5)"
   ]
  },
  {
   "cell_type": "code",
   "execution_count": null,
   "metadata": {},
   "outputs": [],
   "source": [
    "# Answer2:\n",
    "\n",
    "# i)  string\n",
    "# ii)  string\n",
    "# iii) List\n",
    "# iv)  int"
   ]
  },
  {
   "cell_type": "code",
   "execution_count": 2,
   "metadata": {},
   "outputs": [
    {
     "name": "stdout",
     "output_type": "stream",
     "text": [
      "1.5\n",
      "1\n",
      "1\n",
      "9\n"
     ]
    }
   ],
   "source": [
    "\n",
    "# Answer 3:\n",
    "\n",
    "# i)  \"/\" is used to find the quotient on dividing\n",
    "num1 = 3/2\n",
    "print(num1)\n",
    "# ii)  \"%\" is used to find the remainder on division\n",
    "num2 = 3%2\n",
    "print(num2)\n",
    "# iii) \"//\" is used to find the Floor value on division\n",
    "num3 = 3//2\n",
    "print(num3)\n",
    "# iv) \"**\" is used to find the power of the numeric value\n",
    "num4 = 3**2\n",
    "print(num4)"
   ]
  },
  {
   "cell_type": "code",
   "execution_count": null,
   "metadata": {},
   "outputs": [],
   "source": [
    "#  Answer 4:\n",
    "\n",
    "\n",
    "lst=[1,5,7,\"Amit\",\"age\",5.6,\"class\",5+4j,56,\"area\"]\n",
    "i=0\n",
    "for i in lst:\n",
    "    print(i)"
   ]
  },
  {
   "cell_type": "code",
   "execution_count": null,
   "metadata": {},
   "outputs": [],
   "source": [
    "# Answer 5:\n",
    "\n",
    "\n",
    "A=int(input(\"Enter any integer number a: \"))\n",
    "B=int(input(\"Enter any integer number b: \"))\n",
    "cnt=0\n",
    "if(A>B and A%B==0):\n",
    "    while(A>=B):\n",
    "        cnt=cnt+1\n",
    "        A=A//B\n",
    "    print(cnt)\n",
    "else:\n",
    "    print(\"Enter First number greater than second number \")\n",
    "    "
   ]
  },
  {
   "cell_type": "code",
   "execution_count": null,
   "metadata": {},
   "outputs": [],
   "source": [
    "\n",
    "# Answer 6:\n",
    "\n",
    "\n",
    "lst=[1,2,3,4,5,6,7,8,9,10,11,12,13,14,15,16,17,18,19,20,21,22,23,24,25]\n",
    "i=0\n",
    "for i in lst:\n",
    "    if(i%3==0):\n",
    "        print(i)\n",
    "        print(\"is divisible by 3\")\n",
    "        print(\"\\n\")\n",
    "    else:\n",
    "        print(i)\n",
    "        print(\"is not divisible by 3\")\n",
    "        print(\"\\n\")\n",
    " "
   ]
  },
  {
   "cell_type": "code",
   "execution_count": null,
   "metadata": {},
   "outputs": [],
   "source": [
    "\n",
    "# Answer 7:\n",
    "\n",
    "'''\n",
    "Concept of mutability and immutability ics only to change or modify at a particular index.\n",
    " mutable: means change at a particular index is possible\n",
    "ex. list\n",
    " immutable: means change at a particular index is not possible\n",
    "ex. string\n",
    "\n",
    "'''"
   ]
  }
 ],
 "metadata": {
  "kernelspec": {
   "display_name": "Python 3",
   "language": "python",
   "name": "python3"
  },
  "language_info": {
   "codemirror_mode": {
    "name": "ipython",
    "version": 3
   },
   "file_extension": ".py",
   "mimetype": "text/x-python",
   "name": "python",
   "nbconvert_exporter": "python",
   "pygments_lexer": "ipython3",
   "version": "3.11.2"
  },
  "orig_nbformat": 4
 },
 "nbformat": 4,
 "nbformat_minor": 2
}
